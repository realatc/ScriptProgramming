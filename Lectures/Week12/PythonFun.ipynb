{
 "cells": [
  {
   "cell_type": "markdown",
   "id": "interracial-cross",
   "metadata": {},
   "source": [
    "# In-Class Lab Week 13\n",
    "CSCI1411\n",
    "\n",
    "Follow along with in-class labs! Let's see if this works!"
   ]
  },
  {
   "cell_type": "markdown",
   "id": "outstanding-fabric",
   "metadata": {},
   "source": [
    "# 1. Set Example"
   ]
  },
  {
   "cell_type": "code",
   "execution_count": null,
   "id": "current-russell",
   "metadata": {},
   "outputs": [],
   "source": [
    "#Set Syntax and Properties\n",
    "#Notice anything interesting?\n",
    "setExample = {'Monday','Tuesday','Wednesday','Monday','Monday'}\n",
    "L1 = ['Monday','Tuesday','Wednesday','Monday','Monday']\n",
    "\n",
    "\n",
    "\n",
    "#Add object to set\n",
    "\n",
    "\n",
    "\n",
    "#Add object to set\n",
    "#Will we see two Mondays, one Monday or Error?\n",
    "\n",
    "\n",
    "\n",
    "\n",
    "#Remove object\n",
    "\n",
    "\n"
   ]
  },
  {
   "cell_type": "markdown",
   "id": "following-remainder",
   "metadata": {},
   "source": [
    "# 2. Unique List Example"
   ]
  },
  {
   "cell_type": "code",
   "execution_count": null,
   "id": "coordinate-omaha",
   "metadata": {},
   "outputs": [],
   "source": [
    "#Unique List Generator\n",
    "\n",
    "L1Duplicates = ['student1','student2','student3','student2']\n",
    "print(L1Duplicates)\n",
    "\n",
    "#Cast the list to a set\n",
    "\n",
    "\n",
    "#What does this do?\n",
    "#L1Duplicates = list(set(L1Duplicates))\n",
    "L2Duplicates = set(L1Duplicates)\n",
    "L2Duplicates = list(L2Duplicates)\n",
    "L2Duplicates.sort()\n",
    "print(L2Duplicates)\n",
    "\n",
    "\n",
    "\n",
    "\n",
    "\n",
    "# Function to remove List Duplicates\n",
    "def makeUnique(listName):\n",
    "    #YOUR CODE HERE\n",
    "\n",
    "\n",
    "L1Duplicates = ['student1','student2','student3','student2']\n",
    "#print(\"Before:\",L1Duplicates)\n",
    "\n",
    "#L1Unique = makeUnique(L1Duplicates)\n",
    "#print(\"After:\",L1Unique)\n",
    "\n",
    "\n",
    "\n"
   ]
  },
  {
   "cell_type": "markdown",
   "id": "burning-acrobat",
   "metadata": {},
   "source": [
    "# 3. COVID API"
   ]
  },
  {
   "cell_type": "code",
   "execution_count": null,
   "id": "alternative-bosnia",
   "metadata": {},
   "outputs": [],
   "source": [
    "import requests\n",
    "import json\n",
    "\n",
    "apiURL = 'https://api.covidtracking.com/v1/states/ga/daily.json'\n",
    "\n",
    "#Part 1 - Write a script that prints out the current COVID cases confirmed for Georgia?\n",
    "# This API Service stopped collecting data on 3/1/2021\n",
    "\n",
    "\n"
   ]
  }
 ],
 "metadata": {
  "kernelspec": {
   "display_name": "Python 3",
   "language": "python",
   "name": "python3"
  },
  "language_info": {
   "codemirror_mode": {
    "name": "ipython",
    "version": 3
   },
   "file_extension": ".py",
   "mimetype": "text/x-python",
   "name": "python",
   "nbconvert_exporter": "python",
   "pygments_lexer": "ipython3",
   "version": "3.8.6"
  }
 },
 "nbformat": 4,
 "nbformat_minor": 5
}
