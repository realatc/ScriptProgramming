{
 "cells": [
  {
   "cell_type": "markdown",
   "metadata": {},
   "source": [
    "# Homework 7\n",
    "CSCI1411"
   ]
  },
  {
   "cell_type": "markdown",
   "metadata": {},
   "source": [
    "In this homework, we will be using Jupyter Notebooks to continue to practice Python syntax.\n",
    "\n",
    "Directly sharing answers is not okay, but discussing problems with the course staff or with other students is encouraged.\n",
    "You should start early so that you have time to get help if you're stuck."
   ]
  },
  {
   "cell_type": "markdown",
   "metadata": {},
   "source": [
    "# 1. Advanced Data Types Exercise\n",
    "Below are some Python exercises. Complete each section, then run Section 1 Checker to verify your results!"
   ]
  },
  {
   "cell_type": "code",
   "execution_count": null,
   "metadata": {},
   "outputs": [],
   "source": [
    "#1.1 List Slicing - copy 1st 25 items of list1 into list2\n",
    "list1 = []\n",
    "#List populated with 50 IP addresses\n",
    "for number in range(1,51):\n",
    "    list1.append(\"192.168.1.\"+str(number))\n",
    "\n",
    "#YOUR CODE HERE\n",
    "list2 = ?\n",
    "\n",
    "   \n",
    "#1.2. Copy the last 25 items of list1 and store in list3\n",
    "list3 = ?\n",
    "#print(list3)\n",
    "\n",
    "\n",
    "\n",
    "#1.3 Store odd IP addresses from list1 into list4.  Example:  ['192.168.1.1','192.168.1.3',....]\n",
    "#HINT: You can use a for loop or you can use an \"IndexJump\" option\n",
    "list4 = []\n",
    "#YOUR CODE HERE\n",
    "\n",
    "list4 = ?\n",
    "\n",
    "\n",
    "#1.4 Use slicing to grab the number 11 and store value in value1\n",
    "list5 = [0,1,2,3,[4,5,6,[7,9,[10,11,12]]]]\n",
    "value1 = ?\n",
    "\n",
    "#1.5a Convert str1 into list6\n",
    "#Hint: Strings have a method to 'split' a string into a list\n",
    "str1 = \"1157689343.782 1371 10.105.33.214 TCP_MISS/200 484 POST http://ung.edu nigel\"\n",
    "\n",
    "list6 = ?\n",
    "#print(list6)\n",
    "\n",
    "#1.5b Lowercase all values in list6 and \n",
    "#Hint: You will need the index value of the list each time it iterates. \n",
    "# Research adding enumerate to your for loop\n",
    "#YOUR CODE HERE\n",
    "\n"
   ]
  },
  {
   "cell_type": "code",
   "execution_count": null,
   "metadata": {},
   "outputs": [],
   "source": [
    "### Section 1 Checker ###\n",
    "###  DO NOT MODIFY ###\n",
    "\n",
    "print(\"Your list2 value: \" + str(list2))\n",
    "assert list2 == ['192.168.1.1', '192.168.1.2', '192.168.1.3', '192.168.1.4', '192.168.1.5', '192.168.1.6', '192.168.1.7', '192.168.1.8', '192.168.1.9', '192.168.1.10', '192.168.1.11', '192.168.1.12', '192.168.1.13', '192.168.1.14', '192.168.1.15', '192.168.1.16', '192.168.1.17', '192.168.1.18', '192.168.1.19', '192.168.1.20', '192.168.1.21', '192.168.1.22', '192.168.1.23', '192.168.1.24', '192.168.1.25']\n",
    "print(\"1.1 Complete!\")\n",
    "print(\"---------------------------------------------------------------------\")\n",
    "print(\"Your list3 value: \" + str(list3))\n",
    "assert list3 == ['192.168.1.26', '192.168.1.27', '192.168.1.28', '192.168.1.29', '192.168.1.30', '192.168.1.31', '192.168.1.32', '192.168.1.33', '192.168.1.34', '192.168.1.35', '192.168.1.36', '192.168.1.37', '192.168.1.38', '192.168.1.39', '192.168.1.40', '192.168.1.41', '192.168.1.42', '192.168.1.43', '192.168.1.44', '192.168.1.45', '192.168.1.46', '192.168.1.47', '192.168.1.48', '192.168.1.49', '192.168.1.50']\n",
    "print(\"1.2 Complete!\")\n",
    "print(\"---------------------------------------------------------------------\")\n",
    "\n",
    "print(\"Your list4 value: \" + str(list4))\n",
    "assert list4 == ['192.168.1.1', '192.168.1.3', '192.168.1.5', '192.168.1.7', '192.168.1.9', '192.168.1.11', '192.168.1.13', '192.168.1.15', '192.168.1.17', '192.168.1.19', '192.168.1.21', '192.168.1.23', '192.168.1.25', '192.168.1.27', '192.168.1.29', '192.168.1.31', '192.168.1.33', '192.168.1.35', '192.168.1.37', '192.168.1.39', '192.168.1.41', '192.168.1.43', '192.168.1.45', '192.168.1.47', '192.168.1.49']\n",
    "print(\"1.3 Complete!\")\n",
    "print(\"---------------------------------------------------------------------\")\n",
    "\n",
    "print(\"Your value1: \",value1)\n",
    "assert value1 == 11\n",
    "print(\"1.4 Complete!\")\n",
    "print(\"---------------------------------------------------------------------\")\n",
    "\n",
    "print(\"Your list6: \",list6)\n",
    "assert list6 == ['1157689343.782', '1371', '10.105.33.214', 'tcp_miss/200', '484', 'post', 'http://ung.edu', 'nigel']\n",
    "print(\"1.5 Complete!\")\n",
    "print(\"---------------------------------------------------------------------\")\n",
    "\n",
    "\n",
    "print(\"Everything looks good! Great job!\")"
   ]
  },
  {
   "cell_type": "markdown",
   "metadata": {},
   "source": [
    "# 2. Dictionaries\n",
    "Below are some Python Dictionary exercises. Complete each problem, then run Section 2 Checker to verify your results!\n"
   ]
  },
  {
   "cell_type": "code",
   "execution_count": null,
   "metadata": {},
   "outputs": [],
   "source": [
    "#2.1 Update Bob's Department to Human Resources\n",
    "directory = [{'firstName':\"bob\",'department':\"Accounting\",'salary':50000},{'firstName':\"alice\",'department':\"Marketing\",'salary':100000}]\n",
    "#YOUR CODE HERE\n",
    "\n",
    "#2.2 Grab only first names and store in list7. Example: ['bob','alice']\n",
    "list7 = []\n",
    "#YOUR CODE HERE\n",
    "\n",
    "\n",
    "#2.3 Average the salaries for the two employees in the directory into avgSalary variable as an int\n",
    "#YOUR CODE HERE\n",
    "\n",
    "avgSalary = ?\n",
    "\n",
    "\n",
    "#2.4 Merge the following lists into a new list as dictionary objects\n",
    "firstName = [\"Luke\",\"Leia\",\"Darth\",\"yoda\"]\n",
    "side = [\"Jedi\",\"Jedi\",\"Dark\",\"Jedi\"]\n",
    "lightsaber = [\"blue\",\"blue\",\"red\",\"green\"]\n",
    "\n",
    "starWars = []\n",
    "\n",
    "#YOUR CODE HERE\n",
    "#starWars list will look like this [{'firstName': 'Luke', 'side':.....}, {'firstName': 'Leia',...},...]\n",
    "\n",
    "\n",
    "\n"
   ]
  },
  {
   "cell_type": "code",
   "execution_count": null,
   "metadata": {},
   "outputs": [],
   "source": [
    "### Section 2 Checker ###\n",
    "###  DO NOT MODIFY ###\n",
    "\n",
    "print(\"Your directory value: \" + str(directory))\n",
    "assert directory == [{'firstName': 'bob', 'department': 'Human Resources', 'salary': 50000}, {'firstName': 'alice', 'department': 'Marketing', 'salary': 100000}]\n",
    "print(\"2.1 Complete!\")\n",
    "print(\"---------------------------------------------------------------------\")\n",
    "\n",
    "print(\"Your list7 value: \" + str(list7))\n",
    "assert list7 == ['bob', 'alice']\n",
    "print(\"2.2 Complete!\")\n",
    "print(\"---------------------------------------------------------------------\")\n",
    "\n",
    "print(\"Your avgSalary value: \" + str(avgSalary))\n",
    "assert avgSalary == 75000\n",
    "print(\"2.3 Complete!\")\n",
    "print(\"---------------------------------------------------------------------\")\n",
    "\n",
    "print(\"Your starWars value: \" + str(starWars))\n",
    "assert starWars == [{'firstName': 'Luke', 'side': 'Jedi', 'lightsaber': 'blue'}, {'firstName': 'Leia', 'side': 'Jedi', 'lightsaber': 'blue'}, {'firstName': 'Darth', 'side': 'Dark', 'lightsaber': 'red'}, {'firstName': 'yoda', 'side': 'Jedi', 'lightsaber': 'green'}]\n",
    "print(\"2.4 Complete!\")\n",
    "print(\"---------------------------------------------------------------------\")\n",
    "\n",
    "print(\"Everything looks good! Great job!\")"
   ]
  },
  {
   "cell_type": "markdown",
   "metadata": {},
   "source": [
    "# 3. Finish the function\n"
   ]
  },
  {
   "cell_type": "code",
   "execution_count": null,
   "metadata": {},
   "outputs": [],
   "source": [
    "#3.1 import python package for datetimes\n",
    "# This module may be helpful: https://docs.python.org/3/library/datetime.html\n",
    "# YOUR CODE HERE\n",
    "\n",
    "#3.2 Code statements that get user input, complete the function below\n",
    "firstname = input(\"Enter you first name: \")\n",
    "birthdatestr = input(\"Enter your birthdate: \")\n",
    "\n",
    "def calculateYearsOld(birthdate): \n",
    "    #YOUR CODE HERE\n",
    "\n",
    "#DO NOT MODIFY\n",
    "yearsOld = calculateYearsOld(birthdatestr)\n",
    "print(firstname, \"is\", yearsOld, \"years old!\")\n"
   ]
  },
  {
   "cell_type": "code",
   "execution_count": null,
   "metadata": {},
   "outputs": [],
   "source": [
    "### Section 3 Checker ###\n",
    "###  DO NOT MODIFY ###\n",
    "print(\"Enter you first name: nigel\")\n",
    "print(\"Enter your birthdate: 01/08/2013\")\n",
    "firstName = \"nigel\"\n",
    "birthdatestr = \"1/8/2013\"\n",
    "yearsOld = calculateYearsOld(birthdatestr)\n",
    "print(\"Your yearsOld: \", yearsOld)\n",
    "\n",
    "assert yearsOld == 10\n",
    "print(\"3.1 Complete!\")\n",
    "print(\"---------------------------------------------------------------------\")\n",
    "\n",
    "print(\"Everything looks good! Great job!\")"
   ]
  },
  {
   "cell_type": "code",
   "execution_count": null,
   "metadata": {},
   "outputs": [],
   "source": []
  }
 ],
 "metadata": {
  "kernelspec": {
   "display_name": "Python 3",
   "language": "python",
   "name": "python3"
  },
  "language_info": {
   "codemirror_mode": {
    "name": "ipython",
    "version": 3
   },
   "file_extension": ".py",
   "mimetype": "text/x-python",
   "name": "python",
   "nbconvert_exporter": "python",
   "pygments_lexer": "ipython3",
   "version": "3.7.9"
  }
 },
 "nbformat": 4,
 "nbformat_minor": 4
}
